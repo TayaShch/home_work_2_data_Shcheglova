{
 "cells": [
  {
   "cell_type": "code",
   "execution_count": 2,
   "metadata": {},
   "outputs": [
    {
     "data": {
      "text/plain": [
       "UK       Англия\n",
       "CA       Канада\n",
       "US          США\n",
       "RU       Россия\n",
       "UA      Украина\n",
       "BY     Беларусь\n",
       "KZ    Казахстан\n",
       "Name: countries, dtype: object"
      ]
     },
     "metadata": {},
     "output_type": "display_data"
    }
   ],
   "source": [
    "\"\"\"Series - установка формата - присвоение индексов заданных объекту как словарь\"\"\"\n",
    "import pandas as pd\n",
    "countries = pd.Series(\n",
    "    data = ['Англия', 'Канада', 'США', 'Россия', 'Украина', 'Беларусь', 'Казахстан'],\n",
    "    index = ['UK', 'CA', 'US', 'RU', 'UA', 'BY', 'KZ'],\n",
    "    name = 'countries'\n",
    ")\n",
    "display(countries)\n",
    "\n",
    "\"\"\".loc .iloc обращаться к индексам по меткам\"\"\"\n",
    "# print(countries.loc['US']) обращени по нашим именованным индексам\n",
    "print(countries.loc[['US', 'RU', 'UK']])\n",
    "# print(countries.iloc[6]) вызов по порядковым индексам\n",
    "print(countries.iloc[1:4])"
   ]
  },
  {
   "cell_type": "code",
   "execution_count": 8,
   "metadata": {},
   "outputs": [
    {
     "name": "stdout",
     "output_type": "stream",
     "text": [
      "Lacan            Яна\n",
      "Good           Света\n",
      "Soulmate      Марина\n",
      "Sibling        Антон\n",
      "Devil            Аня\n",
      "I love her     Настя\n",
      "Name: my friend psychology, dtype: object\n",
      "I love her     Настя\n",
      "Soulmate      Марина\n",
      "Name: my friend psychology, dtype: object\n"
     ]
    }
   ],
   "source": [
    "import pandas as pd\n",
    "psychologists = pd.Series ( data = [\"Яна\", \"Света\", \"Марина\",\"Антон\", \"Аня\", \"Настя\"],index = [\"Lacan\", \"Good\",\"Soulmate\",\"Sibling\", \"Devil\", \"I love her\"],name = \"my friend psychology\")\n",
    "print(psychologists )\n",
    "print(psychologists.loc[[\"I love her\", \"Soulmate\"]])"
   ]
  },
  {
   "cell_type": "markdown",
   "metadata": {},
   "source": [
    "DATAFRAME"
   ]
  },
  {
   "cell_type": "code",
   "execution_count": null,
   "metadata": {},
   "outputs": [],
   "source": [
    "countries_df = pd.DataFrame({\n",
    "    'country': ['Англия', 'Канада', 'США', 'Россия', 'Украина', 'Беларусь', 'Казахстан'],\n",
    "    'population': [56.29, 38.05, 322.28, 146.24, 45.5, 9.5, 17.04],\n",
    "    'square': [133396, 9984670, 9826630, 17125191, 603628, 207600, 2724902]\n",
    "})\n",
    "\n",
    " countries_df = pd.DataFrame(  #  мне больше этот метод нравится\n",
    "    data = [\n",
    "        ['Англия', 56.29, 133396], \n",
    "        ['Канада', 38.05, 9984670],\n",
    "        ['США', 322.28, 9826630],\n",
    "        ['Россия', 146.24, 17125191],\n",
    "        ['Украина', 45.5, 603628],\n",
    "        ['Беларусь', 9.5, 207600],\n",
    "        ['Казахстан', 17.04, 2724902]\n",
    "    ],\n",
    "    columns= ['country', 'population', 'square'],\n",
    "    index = ['UK', 'CA', 'US', 'RU', 'UA', 'BY', 'KZ']\n",
    "    \n",
    "   \n",
    ")\n",
    "display(countries_df)\n",
    "\n",
    "countries_df.mean(axis=0, numeric_only=True) # определяем ось по которой идти - по столбцам или строкам. только по числам. \n",
    "countries_df.mean(axis=1, numeric_only=True) # среднее по столбцам, только числа\n",
    "countries_df['population'] # обращаемся по индексу столбца\n",
    "countries_df.loc['UK', 'square'] # вызов конкретной ячейки\n",
    "countries_df.loc['RU', ['population', 'square']] # вызов двух ячеек\n",
    "countries_df.loc[['UA', 'BY', 'KZ'],['population', 'square']] # несколько стран и их столбцы\n",
    "countries_df.iloc[4:8, 1:3] # то же самое\n",
    "countries_df.to_csv('data/countries.csv', index=False, sep=';') # сохранение на комп в csv формате\n",
    "countries_data = pd.read_csv('data/countries.csv', sep=';') # чтение с компа\n",
    "df = pd.read_csv('path/file.csv', sep = ';', skiprows = 20) # пропустить первые 20 строк служебной информации\n",
    "df.to_csv('path/file.csv', sep = ';', decimal=',') # целая часть от дробной отделяется ,\n",
    "to_sql() to_xml() to_json() to_excel() read_sql() read_xml() read_json() read_excel() # другие форматы\n",
    "\n",
    "display(melb_data.head()) # the first 5 strings\n",
    "display (melb_data.tail(7)) # the last 7 strings\n",
    "display(melb_data.shape) # размерность\n",
    "melb_data[\"car\"] = melb_data[\"car\"].astype(\"int64\") # change the type of data on int64\n",
    "melb_data.describe() # непустых значений (count), среднее (mean), стандартное отклонение (std), минимальное значение (min),  квантили уровней 0.25, 0.5 (медиана) и 0.75 (25%, 50%, 75%) и максимальное значение (max) для каждого столбца\n",
    "melb_data.describe().loc[:,[\"Distance\", \"Price\"]] # описать именно конкретные столбцы и строки\n",
    "melb_data.describe(include = (\"object\")) # описать можно не только числовые данные\n",
    "melb_data[\"Regionname\"].value_counts(normalize=True) # посчитать сколько каждого значения было в долях от 1\n",
    "\n",
    "melb_data[melb_data['Price'] > mean_price]['BuildingArea'].median() # маски с фильтраией данных\n",
    "melb_data[((melb_data['Rooms'] == 3) | (melb_data['BuildingArea'] > 100)) & (melb_data['Price'] < 300000)].shape[0] # сожная маска с or, and\n",
    "melb_data.sample(5) # выводит 5 рандомных строк\n",
    "melb_data_renamed = melb_data.rename(colums = lambda name: name.replase(\"/\", \"_\").lower()) # поменяли названия на подходящие\n",
    "\n"
   ]
  }
 ],
 "metadata": {
  "kernelspec": {
   "display_name": "Python 3",
   "language": "python",
   "name": "python3"
  },
  "language_info": {
   "codemirror_mode": {
    "name": "ipython",
    "version": 3
   },
   "file_extension": ".py",
   "mimetype": "text/x-python",
   "name": "python",
   "nbconvert_exporter": "python",
   "pygments_lexer": "ipython3",
   "version": "3.10.5"
  }
 },
 "nbformat": 4,
 "nbformat_minor": 2
}
