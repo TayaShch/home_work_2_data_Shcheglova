{
 "cells": [
  {
   "cell_type": "markdown",
   "metadata": {},
   "source": [
    "Домашка авито 1"
   ]
  },
  {
   "cell_type": "code",
   "execution_count": null,
   "metadata": {},
   "outputs": [],
   "source": [
    "input_string1 = input('Введите 1-ую последовательность идентификаторов: ')\n",
    "input_string2 = input('Введите 2-ую последовательность идентификаторов: ')\n",
    "# ваш код здесь\n",
    "\n",
    "def pure_intersection(input_string1, input_string2): # объявляем функцию, на вход - две строки от пользовател на выход - список из пересечений множеств\n",
    "    return list(set(input_string1) & set(input_string2)) \n",
    "\n",
    "try:    \n",
    "    # Конвертирование строки в список целых чисел\n",
    "    lst1 = [int(i) for i in input_string1.split(\", \")]\n",
    "    lst2 = [int(i) for i in input_string2.split(\", \")]\n",
    "    \n",
    "    result = pure_intersection(lst1, lst2)\n",
    "    print(result)\n",
    "    \n",
    "except ValueError: # ловим ошибку для некорректного ввода пользователя\n",
    "    print(\"Некорректный ввод\")"
   ]
  },
  {
   "cell_type": "code",
   "execution_count": 2,
   "metadata": {},
   "outputs": [
    {
     "name": "stderr",
     "output_type": "stream",
     "text": [
      "\"wget\" �� ���� ����७��� ��� ���譥�\n",
      "��������, �ᯮ��塞�� �ணࠬ��� ��� ������ 䠩���.\n"
     ]
    }
   ],
   "source": [
    "!wget https://raw.githubusercontent.com/harika-bonthu/Hypothesis-test-examples/main/pizzas.csv"
   ]
  },
  {
   "cell_type": "markdown",
   "metadata": {},
   "source": [
    "Домашка авито 2"
   ]
  },
  {
   "cell_type": "code",
   "execution_count": null,
   "metadata": {},
   "outputs": [],
   "source": [
    "input_string = input('Введите последовательность чисел: ')\n",
    "# ваш код здесь\n",
    "\n",
    "def find_max_min(stroka): # объявляем функцию которая принимает аргументом строку\n",
    "    list_ready = stroka.replace(\",\", \".\").split(\" \") # меняем в строке , на . и делим строку по пробелу.\n",
    "    new_list = [] # формируем пустой список для пополнения\n",
    "\n",
    "    for i in list_ready: # итерируем список\n",
    "        try:             # применяем конструкцию try except для формирования списка только из цифр\n",
    "            i = float(i) # приводим данные к типу float\n",
    "            new_list.append(i) # добавляем i в конец списка\n",
    "        except ValueError: # ловим ошибку - в случае str объектов в списке\n",
    "            continue       #\n",
    "    return(f\"Minimum: {min(new_list)} \\nMaximim: {max(new_list)}\") # возвращаем форматированную строку с результатами min  и max\n",
    "\n",
    "result = find_max_min(input_string) # вызываем функию\n",
    "print(result)                       # выводим результат"
   ]
  },
  {
   "cell_type": "markdown",
   "metadata": {},
   "source": [
    "Домашка авито 3"
   ]
  },
  {
   "cell_type": "code",
   "execution_count": null,
   "metadata": {},
   "outputs": [],
   "source": [
    "input_string = input('Введите последовательность чисел: ')\n",
    "# ваш код здесь\n",
    "list_from_string = list(input_string.split(\", \")) # разбивает строку на список по запятой и пробелу\n",
    "list_ready = [] # формируем пустой список для счисел\n",
    "for number in list_from_string: # итерируем список, который получился из строки чтоб привести к int и добавить в пустой готовый список\n",
    "    try: # используем try except для отловли ошибок на введение не чисел\n",
    "        number = int(number)\n",
    "        list_ready.append(number)\n",
    "    except ValueError:\n",
    "        continue\n",
    "print(list_ready)\n",
    "def find_median(list_ready): # обозначаем функцию, которая находит медиану по двум вариантам\n",
    "    lenght = len(list_ready) # считам длину списка\n",
    "    if lenght % 2 != 0: # если четное количество чисел в списке используем формулу ниже\n",
    "        res = (list_ready[int(lenght//2)])\n",
    "    else: # если нечетное количество чисел в списке используем формулу ниже\n",
    "        res = (list_ready[int(lenght / 2)] + list_ready[int((lenght-2) / 2)]) / 2\n",
    "    return f'Median: {res}'\n",
    "print(find_median(list_ready)) ##выводим на экран"
   ]
  },
  {
   "cell_type": "markdown",
   "metadata": {},
   "source": [
    "Домашка авито 4"
   ]
  },
  {
   "cell_type": "code",
   "execution_count": 13,
   "metadata": {},
   "outputs": [
    {
     "name": "stdout",
     "output_type": "stream",
     "text": [
      "1232\n"
     ]
    }
   ],
   "source": [
    "input_string = input('Введите число словами: ')\n",
    "number_word_dict = {\n",
    "    \"ты\": 1000, \"м\": 1000000,\n",
    "    \"сто\": 100, \"двес\": 200, \"трис\": 300, \"четырес\": 400, \"пятьс\": 500, \"шестьс\": 600, \"семьс\": 700, \"восемьс\": 800, \"девятьс\": 900,\n",
    "    \"одинн\": 11, \"двен\": 12, \"трин\": 13, \"четырн\": 14, \"пятн\": 15, \"шестн\": 16, \"семн\": 17, \"восемн\": 18, \"девятн\": 19,\n",
    "    \"двад\": 20, \"трид\": 30, \"сор\": 40, \"пятьд\": 50, \"шестьд\": 60, \"семьд\": 70, \"восемьд\": 80, \"девяно\": 90,\n",
    "    \"дес\": 10, \"н\": 0, \"о\": 1, \"дв\": 2, \"т\": 3, \"ч\": 4, \"п\": 5, \"ш\": 6, \"с\": 7, \"в\": 8, \"д\": 9, }\n",
    "\n",
    "\n",
    "\n",
    "def transform_string_to_integer(string):   # объявляем функцию\n",
    "    string1 = string.split(\" \")  # разбивает строку на список по пробелу\n",
    "    number = [] # вводим пустой список для складывания значений из словаря по ключам\n",
    "    for word in string1: # итерируем список \n",
    "        for key, value in number_word_dict.items(): # итерируем ключ-значение по словарю и добавляем значение в список\n",
    "            if word.startswith(key):\n",
    "                number.append(value)\n",
    "                break\n",
    "        \n",
    "    result = 0 # считаем результат\n",
    "    for i in number: \n",
    "        if i == 1000:\n",
    "            result *= 1000\n",
    "        else:\n",
    "            result += i\n",
    "    return result \n",
    "print(transform_string_to_integer(input_string))\n",
    "        "
   ]
  }
 ],
 "metadata": {
  "kernelspec": {
   "display_name": "Python 3",
   "language": "python",
   "name": "python3"
  },
  "language_info": {
   "codemirror_mode": {
    "name": "ipython",
    "version": 3
   },
   "file_extension": ".py",
   "mimetype": "text/x-python",
   "name": "python",
   "nbconvert_exporter": "python",
   "pygments_lexer": "ipython3",
   "version": "3.10.5"
  }
 },
 "nbformat": 4,
 "nbformat_minor": 2
}
