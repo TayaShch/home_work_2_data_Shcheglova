{
 "cells": [
  {
   "cell_type": "code",
   "execution_count": 12,
   "metadata": {},
   "outputs": [
    {
     "name": "stdout",
     "output_type": "stream",
     "text": [
      "68.92932862190813\n"
     ]
    }
   ],
   "source": [
    "import pandas as pd\n",
    "nlo = pd.read_csv(\"https://raw.githubusercontent.com/justmarkham/pandas-videos/master/data/ufo.csv\", sep =\",\")\n",
    "\n",
    "nlo[\"Time\"] = pd.to_datetime(nlo[\"Time\"])\n",
    "\n",
    "\n",
    "# print(nlo['Time'].dt.year.mode()[0])\n",
    "nlo['Date'] = nlo['Time'].dt.date\n",
    "print(nlo[nlo['State']=='NV']['Date'].diff().dt.days.mean())"
   ]
  }
 ],
 "metadata": {
  "kernelspec": {
   "display_name": "Python 3",
   "language": "python",
   "name": "python3"
  },
  "language_info": {
   "codemirror_mode": {
    "name": "ipython",
    "version": 3
   },
   "file_extension": ".py",
   "mimetype": "text/x-python",
   "name": "python",
   "nbconvert_exporter": "python",
   "pygments_lexer": "ipython3",
   "version": "3.10.5"
  }
 },
 "nbformat": 4,
 "nbformat_minor": 2
}
