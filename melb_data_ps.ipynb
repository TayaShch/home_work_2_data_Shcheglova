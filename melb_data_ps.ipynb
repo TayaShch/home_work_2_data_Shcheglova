{
 "cells": [
  {
   "cell_type": "code",
   "execution_count": 6,
   "metadata": {},
   "outputs": [
    {
     "name": "stdout",
     "output_type": "stream",
     "text": [
      "1.3\n"
     ]
    }
   ],
   "source": [
    "import pandas as pd\n",
    "vaccinations_data\n",
    "# melb_data_ps.head()\n",
    "melb_df = melb_data_ps.copy()\n",
    "# melb_df.head()\n",
    "# melb_df.shape\n",
    "# melb_df = melb_df.drop([\"index\", \"Coordinates\"], axis=1)\n",
    "# melb_df.drop(['index','Coordinates'],axis=1,inplace=True) # удаление столбцов и хамна датафрейма на новое\n",
    "# melb_df.head()\n",
    "# total_rooms = melb_df[\"Rooms\"] + melb_df[\"Bathroom\"] + melb_df[\"Bedroom\"]\n",
    "# total_rooms.head()\n",
    "melb_df['Date'] = pd.to_datetime(melb_df['Date'], dayfirst=True)\n",
    "melb_df['WeekdaySale'] = melb_df['Date'].dt.dayofweek\n",
    "# weekend_count = melb_df[(melb_df['WeekdaySale'] == 5) | (melb_df['WeekdaySale'] == 6)].shape[0]\n",
    "# print(weekend_count)\n",
    "# def get_weekend(weekday):\n",
    "#     if weekday == 5 or weekday == 6:\n",
    "#         return 1\n",
    "#     else: \n",
    "#         return 0\n",
    "# melb_df['Weekend'] = melb_df['WeekdaySale'].apply(get_weekend)\n",
    "# print(round(melb_df[melb_df['Weekend']==1]['Price'].mean(), 2))\n",
    "popular_seller = melb_df['SellerG'].value_counts().nlargest(49).index\n",
    "# заменяем имена компаний, не попавших в список популярных, на строку 'other'\n",
    "melb_df['SellerG'] = melb_df['SellerG'].apply(lambda x: x if x in popular_seller else 'other') \n",
    "\n",
    "a = melb_df[melb_df['SellerG'] == 'Nelson']['Price'].min()\n",
    "b = melb_df[melb_df['SellerG'] == 'other']['Price'].min()\n",
    "print(round(a/b, 1))\n",
    "\n"
   ]
  }
 ],
 "metadata": {
  "kernelspec": {
   "display_name": "Python 3",
   "language": "python",
   "name": "python3"
  },
  "language_info": {
   "codemirror_mode": {
    "name": "ipython",
    "version": 3
   },
   "file_extension": ".py",
   "mimetype": "text/x-python",
   "name": "python",
   "nbconvert_exporter": "python",
   "pygments_lexer": "ipython3",
   "version": "3.10.5"
  }
 },
 "nbformat": 4,
 "nbformat_minor": 2
}
