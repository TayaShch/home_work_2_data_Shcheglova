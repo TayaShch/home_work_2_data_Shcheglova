{
 "cells": [
  {
   "cell_type": "code",
   "execution_count": 24,
   "metadata": {},
   "outputs": [
    {
     "name": "stdout",
     "output_type": "stream",
     "text": [
      "6\n"
     ]
    }
   ],
   "source": [
    "# import pandas as pd\n",
    "# melb_data = pd.read_csv('D:/IDE/melb_data.csv', sep = ',')\n",
    "# display (melb_data)\n",
    "# display (round(melb_data.loc[3521, 'Landsize'] / melb_data.loc[1690, 'Landsize']))\n",
    "# display(melb_data.loc[90, 'Date'])\n",
    "# display(melb_data.shape)\n",
    "# display(melb_data.head())\n",
    "# display(melb_data.tail())\n",
    "# melb_data.info()\n",
    "# melb_data.describe()\n",
    "# melb_data[\"Propertycount\"].max()building_median = melb_data['BuildingArea'].median() \n",
    "# building_median = melb_data['BuildingArea'].median() \n",
    "# building_mean =  melb_data['BuildingArea'].mean()\n",
    "# deviance = abs(building_median - building_mean)/building_mean\n",
    "# print(round(deviance * 100, 2))\n",
    "# melb_data['Type'].value_counts(normalize=True)\n",
    "# melb_data[melb_data[\"Bathroom\"] == 0].shape[0]\n",
    "# melb_data[(melb_data['SellerG'] == 'Nelson') & (melb_data['Price'] > 3e6)].shape[0]\n",
    "# melb_data[(melb_data['BuildingArea'] == 0)]['Price'].min()\n",
    "# round(melb_data[(melb_data['Price']<1e6) & ((melb_data['Rooms']>5) | (melb_data['YearBuilt'] > 2015))]['Price'].mean())\n",
    "melb_data[(melb_data['Type'] == 'h') & (melb_data['Price'] < 3000000)]['Regionname'].mode()\n",
    "\n",
    "import pandas as pd\n",
    "student_data = pd.read_csv('D:/IDE/students_performance.csv', sep = ',')\n",
    "# display(student_data.head())\n",
    "# student_data.loc[155, 'writing score']\n",
    "# student_data.info()\n",
    "# display(int(student_data['math score'].mean()))\n",
    "# student_data['race/ethnicity'].mode()\n",
    "# round(student_data[student_data['test preparation course'] == 'completed']['reading score'].mean())\n",
    "# student_data[student_data['math score'] == 0].shape[0]\n",
    "# student_data[student_data['lunch'] == 'standard']['math score'].mean()\n",
    "# student_data[student_data['lunch'] == 'free/reduced']['math score'].mean()\n",
    "# student_data[\"parental level of education\"].value_counts(normalize=True)\n",
    "a = student_data[student_data['race/ethnicity'] == 'group A']['writing score'].median()\n",
    "b = student_data[student_data['race/ethnicity'] == 'group C']['writing score'].mean()\n",
    "print(round(abs(a - b)))"
   ]
  }
 ],
 "metadata": {
  "kernelspec": {
   "display_name": "Python 3",
   "language": "python",
   "name": "python3"
  },
  "language_info": {
   "codemirror_mode": {
    "name": "ipython",
    "version": 3
   },
   "file_extension": ".py",
   "mimetype": "text/x-python",
   "name": "python",
   "nbconvert_exporter": "python",
   "pygments_lexer": "ipython3",
   "version": "3.10.5"
  }
 },
 "nbformat": 4,
 "nbformat_minor": 2
}
