{
 "cells": [
  {
   "cell_type": "code",
   "execution_count": 11,
   "metadata": {},
   "outputs": [
    {
     "data": {
      "text/plain": [
       "<bound method Series.max of 11337   2020-02-24\n",
       "11570   2020-02-25\n",
       "11807   2020-02-26\n",
       "12051   2020-02-27\n",
       "12299   2020-02-28\n",
       "           ...    \n",
       "15933   2020-03-12\n",
       "16595   2020-03-14\n",
       "16938   2020-03-15\n",
       "17290   2020-03-16\n",
       "17645   2020-03-17\n",
       "Name: date, Length: 86785, dtype: datetime64[ns]>"
      ]
     },
     "execution_count": 11,
     "metadata": {},
     "output_type": "execute_result"
    }
   ],
   "source": [
    "import pandas as pd\n",
    "covid_data = pd.read_csv(\"D:/IDE/covid_data.csv\", sep = \",\")\n",
    "vaccinations_data = pd.read_csv(\"D:/IDE/country_vaccinations.csv\", sep = \",\")\n",
    "covid_data = covid_data.groupby(\n",
    "    ['date', 'country'], \n",
    "    as_index=False\n",
    ")[['confirmed', 'deaths', 'recovered']].sum()\n",
    "covid_data['date'] = pd.to_datetime(covid_data['date'])\n",
    "covid_data['active'] = covid_data['confirmed'] - covid_data['deaths'] - covid_data['recovered']\n",
    "covid_data = covid_data.sort_values(by=['country', 'date'])\n",
    "covid_data['daily_confirmed'] = covid_data.groupby('country')['confirmed'].diff()\n",
    "covid_data['daily_deaths'] = covid_data.groupby('country')['deaths'].diff()\n",
    "covid_data['daily_recovered'] = covid_data.groupby('country')['recovered'].diff()\n",
    "covid_data.head()\n",
    "vaccinations_data = pd.read_csv(\"D:/IDE/country_vaccinations.csv\")\n",
    "vaccinations_data['date'] = pd.to_datetime(vaccinations_data['date'])\n",
    "covid_df = covid_data.merge(vaccinations_data, on=['date', 'country'], how='left')\n",
    "covid_data[\"date\"].max\n",
    "# print(f\"Данные о вакцинации предоставлены от {vaccinations_data['date'].min()} до  {vaccinations_data['date'].max()}\")\n",
    "# print('Число строк: ', covid_df.shape[0])\n",
    "# print('Число столбцов: ', covid_df.shape[1])\n",
    "\n",
    "# covid_df['death_rate'] = covid_df['deaths'] / covid_df['confirmed'] * 100\n",
    "# covid_df['recover_rate'] = covid_df['recovered'] / covid_df['confirmed'] * 100\n",
    "# round(covid_df[covid_df['country'] == 'United States']['death_rate'].max(), 2)\n",
    "\n",
    "# round(covid_df[covid_df['country'] == 'Russia']['recover_rate'].mean(), 2)\n"
   ]
  }
 ],
 "metadata": {
  "kernelspec": {
   "display_name": "Python 3",
   "language": "python",
   "name": "python3"
  },
  "language_info": {
   "codemirror_mode": {
    "name": "ipython",
    "version": 3
   },
   "file_extension": ".py",
   "mimetype": "text/x-python",
   "name": "python",
   "nbconvert_exporter": "python",
   "pygments_lexer": "ipython3",
   "version": "3.10.5"
  }
 },
 "nbformat": 4,
 "nbformat_minor": 2
}
