import numpy as np
import pandas as pd
import matplotlib.pyplot as plt
import seaborn as sns

wine_data = pd.read_csv("D:\\IDE\wine.csv")
wine_data.head()
